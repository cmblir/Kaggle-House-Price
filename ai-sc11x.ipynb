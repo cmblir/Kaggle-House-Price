{
 "cells": [
  {
   "cell_type": "markdown",
   "metadata": {
    "colab_type": "text",
    "id": "view-in-github"
   },
   "source": [
    "<a href=\"https://colab.research.google.com/github/codestates/ds-sc11x/blob/master/ds_sc11x%20(2).ipynb\" target=\"_parent\"><img src=\"https://colab.research.google.com/assets/colab-badge.svg\" alt=\"Open In Colab\"/></a>"
   ]
  },
  {
   "cell_type": "markdown",
   "metadata": {
    "id": "2kYJKHpXFbN2"
   },
   "source": [
    "# SC11x\n",
    "\n",
    "## Data Preprocessing & Exploratory Data Analysis"
   ]
  },
  {
   "cell_type": "markdown",
   "metadata": {
    "id": "qSvL3CeTFk9F"
   },
   "source": [
    "## Data Preprocessing\n",
    "\n",
    "이번 파트에서는 [Gapminder](https://www.gapminder.org/about-gapminder/)의 데이터를 다루게 됩니다.\n",
    "\n",
    "데이터는 3가지로 구성되어 있으며 description은 다음과 같습니다.\n",
    "\n",
    "- <https://ds-lecture-data.s3.ap-northeast-2.amazonaws.com/gapminder/data1.csv>\n",
    "- <https://ds-lecture-data.s3.ap-northeast-2.amazonaws.com/gapminder/data2.csv>\n",
    "- <https://ds-lecture-data.s3.ap-northeast-2.amazonaws.com/gapminder/data3.csv>\n",
    "\n",
    "### data1\n",
    "\n",
    "|geo|time|cell_phones_total|\n",
    "|:-:|:-:|:-:|\n",
    "|kor|2017|63658688|\n",
    "|kor|2018|66355778|\n",
    "|kor|2019|68892541|\n",
    "\n",
    "- 지역, 연도, 통화수\n",
    "\n",
    "### data2\n",
    "\n",
    "|geo|time|population|\n",
    "|:-:|:-:|:-:|\n",
    "|kor|2017|51096415|\n",
    "|kor|2018|51171706|\n",
    "|kor|2019|51225308|\n",
    "\n",
    "- 지역, 연도, 인구수\n",
    "\n",
    "### data3\n",
    "\n",
    "|geo|country|\n",
    "|:-:|:-:|\n",
    "|kor|South Korea|\n",
    "\n",
    "- 지역, 나라 이름"
   ]
  },
  {
   "cell_type": "markdown",
   "metadata": {
    "id": "_45iUXguF3cJ"
   },
   "source": [
    "### 1. Load and Explore the Data\n",
    "\n",
    "- 데이터셋을 데이터프레임으로 불러오세요.\n",
    "- 결측데이터를 확인하세요.\n",
    "- `time` vs `cell_phones_total`에 대해서 `scatter plot`을 그리세요.\n"
   ]
  },
  {
   "cell_type": "code",
   "execution_count": null,
   "metadata": {
    "id": "ewdGy4NfG9vA"
   },
   "outputs": [],
   "source": []
  },
  {
   "cell_type": "markdown",
   "metadata": {
    "id": "IvJMtxmBI27k"
   },
   "source": [
    "### 2. Join data\n",
    "\n",
    "다음 데이터를 만드세요. (shape = 9568 * 5)\n",
    "\n",
    "|geo|time|cell_phones_total|population|country|\n",
    "|:-:|:-:|:-:|:-:|:-:|\n",
    "|abw|1960|0|54211|Aruba|\n",
    "|...|...|...|...|...|\n",
    "|zwe|2019|13195902.0|14645468|Zimbabwe|\n"
   ]
  },
  {
   "cell_type": "code",
   "execution_count": null,
   "metadata": {
    "id": "MFMA06QjG1KT"
   },
   "outputs": [],
   "source": []
  },
  {
   "cell_type": "markdown",
   "metadata": {
    "id": "8xjRfkOjKECI"
   },
   "source": [
    "### 3. Feature Engineering\n",
    "\n",
    "인구당 cell phone의 수를 표기한 `PPP`라는 feature를 추가하세요. \n",
    "\n",
    "그 결과로 2019년 한국에서 PPP가 1.3448이 나와야 합니다. (해당 내역을 보여주세요.)"
   ]
  },
  {
   "cell_type": "code",
   "execution_count": null,
   "metadata": {
    "id": "v_bH-SdgQ3O_"
   },
   "outputs": [],
   "source": []
  },
  {
   "cell_type": "markdown",
   "metadata": {
    "id": "j2xDq7MAKRjg"
   },
   "source": [
    "### 4. Data Manipulation\n",
    "\n",
    "각 나라별로 평균 PPP를 계산하세요."
   ]
  },
  {
   "cell_type": "code",
   "execution_count": null,
   "metadata": {
    "id": "AVQYb2q6Q4GH"
   },
   "outputs": [],
   "source": []
  },
  {
   "cell_type": "markdown",
   "metadata": {
    "id": "KXEmo_HdKy_5"
   },
   "source": [
    "가장 많은 PPP 값을 갖는 top 10 (geo) 를 구하세요.\n",
    "\n",
    "다음과 비슷한 결과가 나와야 합니다. \n",
    "\n",
    "|geo|PPP|\n",
    "|:-:|:-:|\n",
    "|are|0.741916|\n",
    "|sau|0.757034|\n",
    "|lie|0.806225|\n",
    "|hkg|0.810664|\n",
    "|mac|0.818130|\n",
    "|isr|0.840197|\n",
    "|srb|0.951586|\n",
    "|nld_curacao|1.259227|\n",
    "|mne|1.574349|\n",
    "|sxm|1.899506|\n"
   ]
  },
  {
   "cell_type": "code",
   "execution_count": null,
   "metadata": {
    "id": "NbCVBsBIK06K"
   },
   "outputs": [],
   "source": []
  },
  {
   "cell_type": "markdown",
   "metadata": {
    "id": "RcBnaSW_LYSk"
   },
   "source": [
    "## EDA\n",
    "이번 파트에서는 **FiveThirtyEight's article, [Every Guest Jon Stewart Ever Had On ‘The Daily Show’](https://fivethirtyeight.com/features/every-guest-jon-stewart-ever-had-on-the-daily-show/)** 의 데이터를 다루게 됩니다.\n",
    "\n",
    "\n",
    "아래의 코드는 이미 여러분들을 위해 준비되어 있습니다. 아래 cell 을 실행하면 자동으로 data 가 load 되며, `df`라는 이름의 dataframe 을 얻게 될 겁니다. \n",
    "\n",
    "(원하신다면 추가 EDA를 하셔도 상관없지만, 이번 파트에서의 요구사항은 아닙니다.)\n"
   ]
  },
  {
   "cell_type": "code",
   "execution_count": null,
   "metadata": {
    "id": "pc7YmWvlLas5",
    "tags": []
   },
   "outputs": [],
   "source": [
    "%matplotlib inline\n",
    "import matplotlib.pyplot as plt\n",
    "import numpy as np\n",
    "import pandas as pd\n",
    "import seaborn as sns\n",
    "\n",
    "cable_news_url = 'https://raw.githubusercontent.com/fivethirtyeight/data/master/media-mentions-2020/cable_weekly.csv'\n",
    "online_news_url = 'https://raw.githubusercontent.com/fivethirtyeight/data/master/media-mentions-2020/online_weekly.csv'\n",
    "\n",
    "cable = pd.read_csv(cable_news_url)\n",
    "online = pd.read_csv(online_news_url)\n",
    "\n",
    "merged = pd.merge(cable[['date', 'name', 'pct_of_all_candidate_clips']], online[['date', 'name', 'pct_of_all_candidate_stories']])\n",
    "merged['date'] = pd.to_datetime(merged['date'], infer_datetime_format=True)\n",
    "merged = merged.set_index('date')\n",
    "\n",
    "unique_dates = list(set(merged.index.to_list()))\n",
    "\n",
    "import datetime\n",
    "\n",
    "joe_biden_cable_multiple = []\n",
    "joe_biden_online_multiple = []\n",
    "\n",
    "for date in unique_dates:\n",
    "  #that_day = merged.loc[datetime.date(year=date.year, month=date.month, day=date.day)]\n",
    "  str_date = str(date.year)+\"-\"+str(date.month) + \"-\" + str(date.day)\n",
    "  that_day = merged.loc[str_date]\n",
    "\n",
    "  joe_biden_cable_that_day = that_day[that_day['name']==\"Joe Biden\"]['pct_of_all_candidate_clips']\n",
    "  not_joe_biden_cable_max = that_day[that_day['name']!=\"Joe Biden\"]['pct_of_all_candidate_clips'].max()\n",
    "  joe_biden_cable_multiple_of_max = joe_biden_cable_that_day / not_joe_biden_cable_max\n",
    "\n",
    "  joe_biden_online_that_day = that_day[that_day['name']==\"Joe Biden\"]['pct_of_all_candidate_stories']\n",
    "  not_joe_biden_online_max = that_day[that_day['name']!=\"Joe Biden\"]['pct_of_all_candidate_stories'].max()\n",
    "  joe_biden_online_multiple_of_max = joe_biden_online_that_day / not_joe_biden_online_max\n",
    "\n",
    "\n",
    "  joe_biden_cable_multiple.append(joe_biden_cable_multiple_of_max.values[0])\n",
    "  joe_biden_online_multiple.append(joe_biden_online_multiple_of_max.values[0])\n",
    "\n",
    "df = pd.DataFrame({'date': unique_dates, 'biden_cable_multiple':joe_biden_cable_multiple, 'biden_online_multiple': joe_biden_online_multiple})\n",
    "df = df.set_index('date')\n",
    "df = df.sort_index()\n",
    "\n",
    "data_for_graph = df.loc[datetime.date(2019, 4, 15):]\n",
    "print(data_for_graph.shape)\n",
    "data_for_graph.head()"
   ]
  },
  {
   "cell_type": "markdown",
   "metadata": {
    "id": "UthoeNABLwau"
   },
   "source": [
    "아래의 그림을 따라 그리세요 :\n",
    "\n",
    "<img src='https://fivethirtyeight.com/wp-content/uploads/2019/10/Mehta-Media1028-1028-1.png' width = 500>\n"
   ]
  },
  {
   "cell_type": "markdown",
   "metadata": {
    "id": "WEHUhxlTL2w2"
   },
   "source": [
    "\n",
    "여러분들이 새로 만들게 될 plot은 다음을 만족해야 합니다:\n",
    "- `example`과 유사한 `Cable News` vs `Online News` 2개의 line graph가 보여야 합니다. \n",
    "- 각 라인은 각각 **다른** 색깔을 가져야 합니다. (위 `example` 과 반드시 같은 색일 필요는 없습니다)\n",
    "- 타이틀을 다음 내용으로 만드세요. _\"Biden's Ukraine-related media bump is fading\"_\n"
   ]
  },
  {
   "cell_type": "code",
   "execution_count": null,
   "metadata": {
    "id": "J-T3IU__L0ih"
   },
   "outputs": [],
   "source": []
  },
  {
   "cell_type": "markdown",
   "metadata": {
    "id": "svbK28PWNCic"
   },
   "source": [
    "## SC 3점 요구사항:\n",
    "\n",
    "위에서 요구된 사항들을 모두 정확하게 만족하였으며, 아직 시간이 남았다면 아래 2개의 내용들중 하나를 만족하는 경우 3점을 얻을 수 있습니다. \n",
    "\n",
    "아래 요구사항들은 모두 **optional** 임을 다시 한 번 강조합니다. (필수 요구사항이 아닙니다.)\n",
    "\n",
    "## 1. Data Preprocessing\n",
    "\n",
    "- `cell_phones`dataframe 에서 필터를 걸어 USA 와 china 정보만 담게 하고, scatter plot 을 다시 그려 보세요. \n",
    "\n",
    "- geo code 를 lowercase가 아닌 uppercase 로 바꿔보세요. \n",
    "\n",
    "- 2017년은 China가 people(인구수)보다 cell phone 개수가 더 많아지는 첫번째 년도 입니다. \n",
    "미국의 경우, cell phone의 개수가 people 보다 더 많아지는 첫번째 년도는 언제인가요?\n",
    "\n",
    "## 2. EDA\n",
    "\n",
    "- 주어진 fivethirtyeight 그림 차트와 완벽히 동일하게 그려보세요. \n"
   ]
  },
  {
   "cell_type": "code",
   "execution_count": null,
   "metadata": {
    "id": "tkayYpKa_bcW"
   },
   "outputs": [],
   "source": []
  }
 ],
 "metadata": {
  "colab": {
   "include_colab_link": true,
   "name": "ds-sc11x.ipynb",
   "provenance": []
  },
  "kernelspec": {
   "display_name": "Python 3",
   "language": "python",
   "name": "python3"
  },
  "language_info": {
   "codemirror_mode": {
    "name": "ipython",
    "version": 3
   },
   "file_extension": ".py",
   "mimetype": "text/x-python",
   "name": "python",
   "nbconvert_exporter": "python",
   "pygments_lexer": "ipython3",
   "version": "3.9.4"
  }
 },
 "nbformat": 4,
 "nbformat_minor": 4
}
